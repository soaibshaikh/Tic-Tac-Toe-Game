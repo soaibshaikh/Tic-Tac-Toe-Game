{
 "cells": [
  {
   "cell_type": "markdown",
   "metadata": {},
   "source": [
    "#  Python Tic Tac Toe Game #"
   ]
  },
  {
   "cell_type": "code",
   "execution_count": 1,
   "metadata": {},
   "outputs": [],
   "source": [
    "from IPython.display import clear_output\n",
    "\n",
    "board = [\" \"]*10\n",
    "game_state = True\n",
    "announce = ''"
   ]
  },
  {
   "cell_type": "markdown",
   "metadata": {},
   "source": [
    "#####  Make a Function that will reset the value of the board"
   ]
  },
  {
   "cell_type": "code",
   "execution_count": 2,
   "metadata": {},
   "outputs": [],
   "source": [
    "def reset_board():\n",
    "    global board,game_state\n",
    "    board = [\" \"]*10\n",
    "    game_state = True"
   ]
  },
  {
   "cell_type": "markdown",
   "metadata": {},
   "source": [
    "#### Make a function to display the board"
   ]
  },
  {
   "cell_type": "code",
   "execution_count": 3,
   "metadata": {},
   "outputs": [],
   "source": [
    "def display_board():\n",
    "    clear_output()  # Remember, this only works in jupyter!\n",
    "    \n",
    "    print('   |   |')\n",
    "    print(' ' + board[7] + ' | ' + board[8] + ' | ' + board[9])\n",
    "    print('   |   |')\n",
    "    print('-----------')\n",
    "    print('   |   |')\n",
    "    print(' ' + board[4] + ' | ' + board[5] + ' | ' + board[6])\n",
    "    print('   |   |')\n",
    "    print('-----------')\n",
    "    print('   |   |')\n",
    "    print(' ' + board[1] + ' | ' + board[2] + ' | ' + board[3])\n",
    "    print('   |   |')"
   ]
  },
  {
   "cell_type": "markdown",
   "metadata": {},
   "source": [
    "#### Define a function to check for a win"
   ]
  },
  {
   "cell_type": "code",
   "execution_count": 4,
   "metadata": {},
   "outputs": [],
   "source": [
    "def win_check(board, player):\n",
    "    if ((board[7]==board[8]==board[9]==player) or \\\n",
    "       (board[4]==board[5]==board[6]==player) or \\\n",
    "       (board[1]==board[2]==board[3]==player) or \\\n",
    "        \n",
    "       (board[7]==board[4]==board[1]==player) or \\\n",
    "       (board[2]==board[5]==board[8]==player) or \\\n",
    "       (board[3]==board[6]==board[9]==player) or \\\n",
    "        \n",
    "        (board[7]==board[5]==board[3]==player) or \\\n",
    "        (board[1]==board[5]==board[9]==player) ):\n",
    "        return True\n",
    "    else:\n",
    "        return False"
   ]
  },
  {
   "cell_type": "markdown",
   "metadata": {},
   "source": [
    "#### Check whether a board is full or not"
   ]
  },
  {
   "cell_type": "code",
   "execution_count": 5,
   "metadata": {},
   "outputs": [],
   "source": [
    "def full_board_check(board):\n",
    "    \n",
    "    if \" \" in board[1:]:\n",
    "        return False\n",
    "    else:\n",
    "        return True"
   ]
  },
  {
   "cell_type": "markdown",
   "metadata": {},
   "source": [
    "#### Ask the player where to place the marker in board"
   ]
  },
  {
   "cell_type": "code",
   "execution_count": 14,
   "metadata": {},
   "outputs": [],
   "source": [
    "def ask_player(mark):\n",
    "    ''' Ask the player where to place the marker x or O , And checks the validity '''\n",
    "    \n",
    "    req = 'Chose where to place your ' + mark +' : '\n",
    "    while True:\n",
    "        try:\n",
    "            choice  = int(input(req))\n",
    "        except ValueError :\n",
    "            print('Sorry, Please input a number betwen (1-9 ) ')\n",
    "            continue\n",
    "            \n",
    "        if choice not in range(1,10):\n",
    "            print('Sorry, Please input a number betwen (1-9 ) ')\n",
    "            continue\n",
    "            \n",
    "        if board[choice] == \" \":\n",
    "            board[choice] = mark\n",
    "            break\n",
    "        else:\n",
    "            print('This place is not empty !!!')\n",
    "            continue"
   ]
  },
  {
   "cell_type": "markdown",
   "metadata": {},
   "source": [
    "#### Ask a player to chose the marker"
   ]
  },
  {
   "cell_type": "code",
   "execution_count": 7,
   "metadata": {},
   "outputs": [],
   "source": [
    "def player_choice(mark):\n",
    "    global board,game_state,announce\n",
    "    #Set game blank game announcement\n",
    "    announce = ''\n",
    "    #Get Player Input\n",
    "    mark = str(mark)\n",
    "    # Validate Input\n",
    "    ask_player(mark)\n",
    "    \n",
    "    #Check for player win\n",
    "    if win_check(board,mark):\n",
    "        clear_output()\n",
    "        display_board()\n",
    "        announce = mark+\" wins! Congratulations \"\n",
    "        game_state = False\n",
    "        \n",
    "    #show board\n",
    "    clear_output()\n",
    "    display_board()\n",
    "    \n",
    "    #check for tie\n",
    "    if full_board_check(board):\n",
    "        announce = \"Tie !\"\n",
    "        \n",
    "    return game_state,announce"
   ]
  },
  {
   "cell_type": "markdown",
   "metadata": {},
   "source": [
    "#### Finally put it all together in a function to play the game"
   ]
  },
  {
   "cell_type": "code",
   "execution_count": 15,
   "metadata": {},
   "outputs": [],
   "source": [
    "def play_game():\n",
    "    reset_board()\n",
    "    global announce \n",
    "    \n",
    "    \n",
    "    #Set marks\n",
    "    X = 'X'\n",
    "    O = 'O'\n",
    "    \n",
    "    while True:\n",
    "        #Show Board\n",
    "        clear_output()\n",
    "        display_board()\n",
    "        \n",
    "        \n",
    "        # Player X turn\n",
    "        game_state , announce = player_choice(X)\n",
    "        print (announce)\n",
    "        if game_state == False:\n",
    "            break\n",
    "            \n",
    "        # Player O turn\n",
    "        game_state , announce = player_choice(O)\n",
    "        print (announce)\n",
    "        if game_state == False:\n",
    "            break\n",
    "            \n",
    "    #Ask player for a rematch\n",
    "    rematch  = input('Would you like to play again ? y/n ')\n",
    "    if rematch == 'y':\n",
    "        play_game()\n",
    "    else:\n",
    "        print (\"Thanks for playing!\")\n",
    "        "
   ]
  },
  {
   "cell_type": "code",
   "execution_count": 16,
   "metadata": {},
   "outputs": [
    {
     "name": "stdout",
     "output_type": "stream",
     "text": [
      "   |   |\n",
      " X | X | O\n",
      "   |   |\n",
      "-----------\n",
      "   |   |\n",
      " X | O | O\n",
      "   |   |\n",
      "-----------\n",
      "   |   |\n",
      " O | X |  \n",
      "   |   |\n",
      "O wins! Congratulations \n",
      "Would you like to play again ? y/n ;\n",
      "Thanks for playing!\n"
     ]
    }
   ],
   "source": [
    "play_game()"
   ]
  }
 ],
 "metadata": {
  "kernelspec": {
   "display_name": "Python 3",
   "language": "python",
   "name": "python3"
  },
  "language_info": {
   "codemirror_mode": {
    "name": "ipython",
    "version": 3
   },
   "file_extension": ".py",
   "mimetype": "text/x-python",
   "name": "python",
   "nbconvert_exporter": "python",
   "pygments_lexer": "ipython3",
   "version": "3.7.4"
  }
 },
 "nbformat": 4,
 "nbformat_minor": 2
}
